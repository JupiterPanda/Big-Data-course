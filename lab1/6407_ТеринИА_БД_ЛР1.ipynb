{
  "nbformat": 4,
  "nbformat_minor": 0,
  "metadata": {
    "colab": {
      "provenance": []
    },
    "kernelspec": {
      "name": "python3",
      "display_name": "Python 3"
    },
    "language_info": {
      "name": "python"
    }
  },
  "cells": [
    {
      "cell_type": "code",
      "source": [
        "!pip install pyspark\n",
        "from pyspark import SparkContext, SparkConf\n",
        "app_name = \"Lab\"\n",
        "conf = SparkConf().setAppName(app_name).setMaster('local[1]')\n",
        "sc = SparkContext(conf=conf)"
      ],
      "metadata": {
        "colab": {
          "base_uri": "https://localhost:8080/"
        },
        "id": "nIse_V2hz9du",
        "outputId": "94042db1-640e-44e9-b755-eeb2ebd9cf39"
      },
      "execution_count": 79,
      "outputs": [
        {
          "output_type": "stream",
          "name": "stdout",
          "text": [
            "Requirement already satisfied: pyspark in /usr/local/lib/python3.10/dist-packages (3.5.1)\n",
            "Requirement already satisfied: py4j==0.10.9.7 in /usr/local/lib/python3.10/dist-packages (from pyspark) (0.10.9.7)\n"
          ]
        }
      ]
    },
    {
      "cell_type": "code",
      "source": [
        "from typing import NamedTuple\n",
        "from datetime import datetime\n",
        "from functools import reduce"
      ],
      "metadata": {
        "id": "dOBtUc4s0Eav"
      },
      "execution_count": 82,
      "outputs": []
    },
    {
      "cell_type": "markdown",
      "source": [
        "**Решите следующие задачи для данных велопарковок Сан-Франциско (trips.csv, stations.csv):**\n"
      ],
      "metadata": {
        "id": "ueRqeuRoAujr"
      }
    },
    {
      "cell_type": "code",
      "source": [
        "tripData = sc.textFile(\"trips.csv\")\n",
        "tripsHeader = tripData.first()\n",
        "trips = tripData.filter(lambda row: row != tripsHeader).map(lambda row: row.split(\",\", -1))\n",
        "\n",
        "stationData = sc.textFile(\"stations.csv\")\n",
        "stationsHeader = stationData.first()\n",
        "stations = stationData.filter(lambda row: row != stationsHeader).map(lambda row: row.split(\",\", -1))"
      ],
      "metadata": {
        "id": "xJ-tLxr_ECgV"
      },
      "execution_count": 83,
      "outputs": []
    },
    {
      "cell_type": "code",
      "source": [
        "def initStation(stations):\n",
        "    class Station(NamedTuple):\n",
        "        station_id: int\n",
        "        name: str\n",
        "        lat: float\n",
        "        long: float\n",
        "        dockcount: int\n",
        "        landmark: str\n",
        "        installation: str\n",
        "\n",
        "    for station in stations:\n",
        "        yield Station(\n",
        "            station_id = int(station[0]),\n",
        "            name = station[1],\n",
        "            lat = float(station[2]),\n",
        "            long = float(station[3]),\n",
        "            dockcount = int(station[4]),\n",
        "            landmark = station[5],\n",
        "            installation = datetime.strptime(station[6], '%m/%d/%Y')\n",
        "        )"
      ],
      "metadata": {
        "id": "p3VLqW3_Fu9f"
      },
      "execution_count": 84,
      "outputs": []
    },
    {
      "cell_type": "code",
      "source": [
        "stationsInternal = stations.mapPartitions(initStation)"
      ],
      "metadata": {
        "id": "-LqSQdwBHdvm"
      },
      "execution_count": 88,
      "outputs": []
    },
    {
      "cell_type": "code",
      "source": [
        "def initTrip(trips):\n",
        "    class Trip(NamedTuple):\n",
        "        trip_id: int\n",
        "        duration: int\n",
        "        start_date: datetime\n",
        "        start_station_name: str\n",
        "        start_station_id: int\n",
        "        end_date: datetime\n",
        "        end_station_name: str\n",
        "        end_station_id: int\n",
        "        bike_id: int\n",
        "        subscription_type: str\n",
        "        zip_code: str\n",
        "\n",
        "    for trip in trips:\n",
        "        try:\n",
        "            yield Trip(\n",
        "             trip_id = int(trip[0]),\n",
        "             duration = int(trip[1]),\n",
        "             start_date = datetime.strptime(trip[2], '%m/%d/%Y %H:%M'),\n",
        "             start_station_name = trip[3],\n",
        "             start_station_id = int(trip[4]),\n",
        "             end_date = datetime.strptime(trip[5], '%m/%d/%Y %H:%M'),\n",
        "             end_station_name = trip[6],\n",
        "             end_station_id = trip[7],\n",
        "             bike_id = int(trip[8]),\n",
        "             subscription_type = trip[9],\n",
        "             zip_code = trip[10]\n",
        "            )\n",
        "        except:\n",
        "            pass"
      ],
      "metadata": {
        "id": "FDkC_34yF2Q8"
      },
      "execution_count": 89,
      "outputs": []
    },
    {
      "cell_type": "code",
      "source": [
        "tripsInternal = trips.mapPartitions(initTrip)"
      ],
      "metadata": {
        "id": "1WSJ1a8wHn2G"
      },
      "execution_count": 90,
      "outputs": []
    },
    {
      "cell_type": "markdown",
      "source": [
        "### Найти велосипед с максимальным временем пробега."
      ],
      "metadata": {
        "id": "-Qi3aQEmDPsW"
      }
    },
    {
      "cell_type": "code",
      "source": [
        "bike_max_way = tripsInternal.keyBy(lambda x: x.bike_id)\n",
        "bike_duration = bike_max_way.mapValues(lambda x: x.duration).reduceByKey(lambda x1, x2: x1 + x2)\n",
        "bike_max_duration = bike_duration.top(1, key=lambda x: x[1])[0][0]\n",
        "bike_max_duration"
      ],
      "metadata": {
        "colab": {
          "base_uri": "https://localhost:8080/"
        },
        "id": "OZ0rSaKXDlH4",
        "outputId": "eb5e5bfa-d608-4903-80fe-8d44bbd3782a"
      },
      "execution_count": 91,
      "outputs": [
        {
          "output_type": "execute_result",
          "data": {
            "text/plain": [
              "535"
            ]
          },
          "metadata": {},
          "execution_count": 91
        }
      ]
    },
    {
      "cell_type": "markdown",
      "source": [
        "### Найти наибольшее геодезическое расстояние между станциями."
      ],
      "metadata": {
        "id": "sHZQKdOUDR_T"
      }
    },
    {
      "cell_type": "code",
      "source": [
        "trips_stations = tripsInternal.filter(lambda trip: trip.start_station_id != trip.end_station_id).keyBy(lambda trip: (trip.start_station_id, trip.end_station_id)).mapValues(lambda trip: trip.duration)\n",
        "query = trips_stations.aggregateByKey(\n",
        "    (0.0, 0.0), lambda acc, value: (acc[0] + value, acc[1] + 1),\n",
        "    lambda acc1, acc2: (acc1[0] + acc2[0], acc1[1] + acc2[1])).mapValues(lambda values: values[0] / values[1])"
      ],
      "metadata": {
        "id": "M-pQXEwELOug"
      },
      "execution_count": 92,
      "outputs": []
    },
    {
      "cell_type": "code",
      "source": [
        "query.map(lambda x: x[::-1]).top(1)"
      ],
      "metadata": {
        "colab": {
          "base_uri": "https://localhost:8080/"
        },
        "id": "82CRop70MODE",
        "outputId": "179e5f81-e57f-419c-e217-ecec1f135113"
      },
      "execution_count": 93,
      "outputs": [
        {
          "output_type": "execute_result",
          "data": {
            "text/plain": [
              "[(229914.0, (26, '16'))]"
            ]
          },
          "metadata": {},
          "execution_count": 93
        }
      ]
    },
    {
      "cell_type": "markdown",
      "source": [
        "### Найти путь велосипеда с максимальным временем пробега через станции."
      ],
      "metadata": {
        "id": "nGzo7V_YDUro"
      }
    },
    {
      "cell_type": "code",
      "source": [
        "bike_way = tripsInternal.filter(lambda x: x.bike_id == bike_max_duration).sortBy(lambda x: x.start_date).map(lambda x: (x.start_station_name, x.end_station_name))\n",
        "bike_way.first()"
      ],
      "metadata": {
        "colab": {
          "base_uri": "https://localhost:8080/"
        },
        "id": "1De422OtDmW7",
        "outputId": "a1fb164e-e0c9-4427-80ec-13254e9566b1"
      },
      "execution_count": 94,
      "outputs": [
        {
          "output_type": "execute_result",
          "data": {
            "text/plain": [
              "('Post at Kearney', 'San Francisco Caltrain (Townsend at 4th)')"
            ]
          },
          "metadata": {},
          "execution_count": 94
        }
      ]
    },
    {
      "cell_type": "markdown",
      "source": [
        "### Найти количество велосипедов в системе."
      ],
      "metadata": {
        "id": "G8WD7euDDWxo"
      }
    },
    {
      "cell_type": "code",
      "source": [
        "tripsInternal.map(lambda x: x.bike_id).distinct().count()"
      ],
      "metadata": {
        "colab": {
          "base_uri": "https://localhost:8080/"
        },
        "id": "EKoOpwbuDnP1",
        "outputId": "f196c064-89d2-4e15-8b0d-074709f75de6"
      },
      "execution_count": 95,
      "outputs": [
        {
          "output_type": "execute_result",
          "data": {
            "text/plain": [
              "700"
            ]
          },
          "metadata": {},
          "execution_count": 95
        }
      ]
    },
    {
      "cell_type": "markdown",
      "source": [
        "### Найти пользователей потративших на поездки более 3 часов."
      ],
      "metadata": {
        "id": "PcBtwGLvDY3L"
      }
    },
    {
      "cell_type": "code",
      "source": [
        "users = tripsInternal.filter(lambda x: x.duration > 10800).map(lambda x: x.zip_code).filter(lambda x: x != \"\").distinct()\n",
        "users.count()"
      ],
      "metadata": {
        "colab": {
          "base_uri": "https://localhost:8080/"
        },
        "id": "HZZPr_PFDn5a",
        "outputId": "356fb298-330b-433b-ba94-c190f418bff7"
      },
      "execution_count": 96,
      "outputs": [
        {
          "output_type": "execute_result",
          "data": {
            "text/plain": [
              "2100"
            ]
          },
          "metadata": {},
          "execution_count": 96
        }
      ]
    },
    {
      "cell_type": "code",
      "source": [
        "users.take(15)"
      ],
      "metadata": {
        "colab": {
          "base_uri": "https://localhost:8080/"
        },
        "id": "7BnHw9W_XBl5",
        "outputId": "cbf0b0bb-296a-4d83-e32c-9bca5ddf114e"
      },
      "execution_count": 97,
      "outputs": [
        {
          "output_type": "execute_result",
          "data": {
            "text/plain": [
              "['58553',\n",
              " '94301',\n",
              " '94039',\n",
              " '94133',\n",
              " '93726',\n",
              " '94123',\n",
              " '4517',\n",
              " '29200',\n",
              " '45322',\n",
              " '94080',\n",
              " '92808',\n",
              " '5024',\n",
              " '89138',\n",
              " '11515',\n",
              " '28277']"
            ]
          },
          "metadata": {},
          "execution_count": 97
        }
      ]
    }
  ]
}