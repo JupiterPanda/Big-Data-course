{
  "nbformat": 4,
  "nbformat_minor": 0,
  "metadata": {
    "colab": {
      "provenance": []
    },
    "kernelspec": {
      "name": "python3",
      "display_name": "Python 3"
    },
    "language_info": {
      "name": "python"
    }
  },
  "cells": [
    {
      "cell_type": "code",
      "source": [
        "!pip install pyspark\n",
        "import pyspark\n",
        "import os\n",
        "\n",
        "from pyspark.sql.functions import col\n",
        "from pyspark.sql import SparkSession\n",
        "from pyspark import SparkContext, SparkConf\n",
        "from pyspark.sql.types import StructType, StructField, StringType, DateType"
      ],
      "metadata": {
        "colab": {
          "base_uri": "https://localhost:8080/"
        },
        "id": "JaHOAB5XlFAP",
        "outputId": "0f1f45e2-17bf-4a66-e555-00822b89cc4b"
      },
      "execution_count": null,
      "outputs": [
        {
          "output_type": "stream",
          "name": "stdout",
          "text": [
            "Collecting pyspark\n",
            "  Downloading pyspark-3.5.1.tar.gz (317.0 MB)\n",
            "\u001b[2K     \u001b[90m━━━━━━━━━━━━━━━━━━━━━━━━━━━━━━━━━━━━━━━━\u001b[0m \u001b[32m317.0/317.0 MB\u001b[0m \u001b[31m2.6 MB/s\u001b[0m eta \u001b[36m0:00:00\u001b[0m\n",
            "\u001b[?25h  Preparing metadata (setup.py) ... \u001b[?25l\u001b[?25hdone\n",
            "Requirement already satisfied: py4j==0.10.9.7 in /usr/local/lib/python3.10/dist-packages (from pyspark) (0.10.9.7)\n",
            "Building wheels for collected packages: pyspark\n",
            "  Building wheel for pyspark (setup.py) ... \u001b[?25l\u001b[?25hdone\n",
            "  Created wheel for pyspark: filename=pyspark-3.5.1-py2.py3-none-any.whl size=317488491 sha256=991405604bdf5795f590106944c3353ad41b3ed06f71e30d51dcd3afc2b1c868\n",
            "  Stored in directory: /root/.cache/pip/wheels/80/1d/60/2c256ed38dddce2fdd93be545214a63e02fbd8d74fb0b7f3a6\n",
            "Successfully built pyspark\n",
            "Installing collected packages: pyspark\n",
            "Successfully installed pyspark-3.5.1\n"
          ]
        }
      ]
    },
    {
      "cell_type": "code",
      "source": [
        "from google.colab import drive\n",
        "drive.mount('/content/drive')"
      ],
      "metadata": {
        "colab": {
          "base_uri": "https://localhost:8080/"
        },
        "id": "cQYP2pQE6KHb",
        "outputId": "264582af-1c6c-48f1-e241-89f98deb1ad0"
      },
      "execution_count": null,
      "outputs": [
        {
          "output_type": "stream",
          "name": "stdout",
          "text": [
            "Mounted at /content/drive\n"
          ]
        }
      ]
    },
    {
      "cell_type": "code",
      "source": [
        "sc = SparkSession.builder.appName(\"Lab2\").config(\"spark.jars.packages\", \"com.databricks:spark-xml_2.12:0.13.0\").getOrCreate()"
      ],
      "metadata": {
        "id": "wcfr77H-mFe7"
      },
      "execution_count": null,
      "outputs": []
    },
    {
      "cell_type": "code",
      "source": [
        "languages = sc.read.csv(\"drive/MyDrive/Colab Notebooks/Большие данные/ЛР2/programming-languages.csv\")\n",
        "languages = [str(x[0]) for x in languages.collect()]"
      ],
      "metadata": {
        "id": "IA_45vHjk1Rk"
      },
      "execution_count": null,
      "outputs": []
    },
    {
      "cell_type": "code",
      "source": [
        "posts = sc.read.format('xml').options(rowTag='row').load(\"drive/MyDrive/Colab Notebooks/Большие данные/ЛР2/posts_sample.xml\")"
      ],
      "metadata": {
        "id": "czc9TRg31Su6"
      },
      "execution_count": null,
      "outputs": []
    },
    {
      "cell_type": "code",
      "source": [
        "from datetime import datetime\n",
        "def get_year(x, year):\n",
        "  return x._CreationDate >= datetime(year=year, month=1, day=1) and x._CreationDate <= datetime(year=year, month=12, day=31)"
      ],
      "metadata": {
        "id": "hT6PcxcITnjZ"
      },
      "execution_count": null,
      "outputs": []
    },
    {
      "cell_type": "code",
      "source": [
        "def text_lower(x):\n",
        "  tag = next((language for language in languages if \"<\" + language.lower()+ \">\" in x._Tags.lower()), None)\n",
        "  return (x._Id, tag) if tag is not None else None"
      ],
      "metadata": {
        "id": "a4SyM2JBXy4P"
      },
      "execution_count": null,
      "outputs": []
    },
    {
      "cell_type": "code",
      "source": [
        "# пишу комментарии в начале, потому что сложно с переносами..\n",
        "# проверяем наличие тэга и подходит ли год\n",
        "# преобразовываем в нижний регистр, если находим язык, то создаем кортеж\n",
        "# убираем пустые значения\n",
        "# группируем по значению в кортеже и агреггируем\n",
        "# сортируем по убыванию и формируем dataframe\n",
        "dataframe = {}\n",
        "def create_df(year):\n",
        "  dataframe[year] = posts.rdd.filter(lambda x: x._Tags is not None and get_year(x, year))\\\n",
        "      .map(text_lower).filter(lambda x: x is not None)\\\n",
        "      .keyBy(lambda x: x[1]).aggregateByKey(0, lambda x, y: x + 1, lambda x1, x2: x1 + x2)\\\n",
        "      .sortBy(lambda x: x[1], ascending=False).toDF()\n",
        "  dataframe[year] = dataframe[year].select(col(\"_1\").alias(\"Lang\"),col(\"_2\").alias(f\"Count_in_{year}\")).limit(10)\n",
        "  dataframe[year].show()"
      ],
      "metadata": {
        "id": "vpgLK5xwE61s"
      },
      "execution_count": null,
      "outputs": []
    },
    {
      "cell_type": "code",
      "source": [
        "for y in range(2010, 2020):\n",
        "  create_df(y)"
      ],
      "metadata": {
        "colab": {
          "base_uri": "https://localhost:8080/"
        },
        "id": "iJsWFPNvbdy3",
        "outputId": "3b349336-12c3-4dd0-c2e5-3cbabe2cafeb"
      },
      "execution_count": null,
      "outputs": [
        {
          "output_type": "stream",
          "name": "stdout",
          "text": [
            "+-----------+-------------+\n",
            "|       Lang|Count_in_2010|\n",
            "+-----------+-------------+\n",
            "|       Java|           52|\n",
            "| JavaScript|           44|\n",
            "|        PHP|           42|\n",
            "|     Python|           25|\n",
            "|Objective-C|           22|\n",
            "|          C|           20|\n",
            "|       Ruby|           11|\n",
            "|     Delphi|            7|\n",
            "|          R|            3|\n",
            "|       Bash|            3|\n",
            "+-----------+-------------+\n",
            "\n",
            "+-----------+-------------+\n",
            "|       Lang|Count_in_2011|\n",
            "+-----------+-------------+\n",
            "|        PHP|           97|\n",
            "|       Java|           92|\n",
            "| JavaScript|           82|\n",
            "|     Python|           35|\n",
            "|Objective-C|           33|\n",
            "|          C|           24|\n",
            "|       Ruby|           17|\n",
            "|     Delphi|            8|\n",
            "|       Perl|            8|\n",
            "|       Bash|            7|\n",
            "+-----------+-------------+\n",
            "\n",
            "+-----------+-------------+\n",
            "|       Lang|Count_in_2012|\n",
            "+-----------+-------------+\n",
            "|        PHP|          136|\n",
            "| JavaScript|          129|\n",
            "|       Java|          124|\n",
            "|     Python|           65|\n",
            "|Objective-C|           45|\n",
            "|          C|           27|\n",
            "|       Ruby|           25|\n",
            "|       Bash|            9|\n",
            "|          R|            9|\n",
            "|     MATLAB|            6|\n",
            "+-----------+-------------+\n",
            "\n",
            "+-----------+-------------+\n",
            "|       Lang|Count_in_2013|\n",
            "+-----------+-------------+\n",
            "| JavaScript|          196|\n",
            "|       Java|          191|\n",
            "|        PHP|          173|\n",
            "|     Python|           87|\n",
            "|Objective-C|           40|\n",
            "|          C|           36|\n",
            "|       Ruby|           30|\n",
            "|          R|           25|\n",
            "|       Bash|           11|\n",
            "|      Scala|           10|\n",
            "+-----------+-------------+\n",
            "\n",
            "+-----------+-------------+\n",
            "|       Lang|Count_in_2014|\n",
            "+-----------+-------------+\n",
            "| JavaScript|          235|\n",
            "|       Java|          228|\n",
            "|        PHP|          154|\n",
            "|     Python|          103|\n",
            "|          C|           52|\n",
            "|Objective-C|           49|\n",
            "|          R|           28|\n",
            "|       Ruby|           20|\n",
            "|     MATLAB|           16|\n",
            "|       Bash|           13|\n",
            "+-----------+-------------+\n",
            "\n",
            "+-----------+-------------+\n",
            "|       Lang|Count_in_2015|\n",
            "+-----------+-------------+\n",
            "| JavaScript|          270|\n",
            "|       Java|          208|\n",
            "|        PHP|          147|\n",
            "|     Python|          119|\n",
            "|          R|           43|\n",
            "|          C|           38|\n",
            "|Objective-C|           30|\n",
            "|       Ruby|           20|\n",
            "|     MATLAB|           16|\n",
            "|      Scala|           13|\n",
            "+-----------+-------------+\n",
            "\n",
            "+----------+-------------+\n",
            "|      Lang|Count_in_2016|\n",
            "+----------+-------------+\n",
            "|JavaScript|          271|\n",
            "|      Java|          178|\n",
            "|    Python|          140|\n",
            "|       PHP|          126|\n",
            "|         R|           50|\n",
            "|         C|           32|\n",
            "|      Ruby|           21|\n",
            "|      Bash|           16|\n",
            "|     Scala|           16|\n",
            "|    MATLAB|           15|\n",
            "+----------+-------------+\n",
            "\n",
            "+-----------+-------------+\n",
            "|       Lang|Count_in_2017|\n",
            "+-----------+-------------+\n",
            "| JavaScript|          244|\n",
            "|       Java|          204|\n",
            "|     Python|          185|\n",
            "|        PHP|          122|\n",
            "|          R|           53|\n",
            "|          C|           24|\n",
            "|Objective-C|           19|\n",
            "|       Ruby|           16|\n",
            "| TypeScript|           14|\n",
            "| PowerShell|           14|\n",
            "+-----------+-------------+\n",
            "\n",
            "+----------+-------------+\n",
            "|      Lang|Count_in_2018|\n",
            "+----------+-------------+\n",
            "|    Python|          214|\n",
            "|JavaScript|          194|\n",
            "|      Java|          145|\n",
            "|       PHP|           99|\n",
            "|         R|           63|\n",
            "|         C|           24|\n",
            "|     Scala|           22|\n",
            "|TypeScript|           21|\n",
            "|PowerShell|           13|\n",
            "|      Bash|           12|\n",
            "+----------+-------------+\n",
            "\n",
            "+----------+-------------+\n",
            "|      Lang|Count_in_2019|\n",
            "+----------+-------------+\n",
            "|    Python|          162|\n",
            "|JavaScript|          131|\n",
            "|      Java|           95|\n",
            "|       PHP|           59|\n",
            "|         R|           36|\n",
            "|         C|           14|\n",
            "|        Go|            9|\n",
            "|    MATLAB|            9|\n",
            "|      Dart|            9|\n",
            "|      Bash|            8|\n",
            "+----------+-------------+\n",
            "\n"
          ]
        }
      ]
    },
    {
      "cell_type": "code",
      "execution_count": null,
      "metadata": {
        "id": "PXqaRCuyDx6v"
      },
      "outputs": [],
      "source": [
        "# сохраняем таблицы в parquet файл\n",
        "for year in dataframe.keys():\n",
        "    dataframe[year].write.format(\"parquet\").save(f\"drive/MyDrive/Colab Notebooks/Большие данные/ЛР2/info_from_{year}\")"
      ]
    }
  ]
}